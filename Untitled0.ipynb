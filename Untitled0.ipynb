{
  "nbformat": 4,
  "nbformat_minor": 0,
  "metadata": {
    "colab": {
      "provenance": [],
      "authorship_tag": "ABX9TyMDQBQkJ2O1IX4EcoVhKsg2",
      "include_colab_link": true
    },
    "kernelspec": {
      "name": "python3",
      "display_name": "Python 3"
    },
    "language_info": {
      "name": "python"
    }
  },
  "cells": [
    {
      "cell_type": "markdown",
      "metadata": {
        "id": "view-in-github",
        "colab_type": "text"
      },
      "source": [
        "<a href=\"https://colab.research.google.com/github/C-2024158/Carbon-Footprint-Estimator/blob/main/Untitled0.ipynb\" target=\"_parent\"><img src=\"https://colab.research.google.com/assets/colab-badge.svg\" alt=\"Open In Colab\"/></a>"
      ]
    },
    {
      "cell_type": "code",
      "execution_count": 1,
      "metadata": {
        "id": "PnhQOCxflVM0"
      },
      "outputs": [],
      "source": [
        "import pandas as pd\n",
        "import numpy as np\n",
        "from sklearn.model_selection import train_test_split\n",
        "from sklearn.linear_model import LinearRegression\n",
        "from sklearn.tree import DecisionTreeRegressor\n",
        "from sklearn.preprocessing import OneHotEncoder\n",
        "from sklearn.metrics import mean_squared_error\n",
        "import matplotlib.pyplot as plt\n"
      ]
    },
    {
      "cell_type": "code",
      "source": [
        "df = pd.read_csv('/content/Carbon footprint.csv')\n",
        "print(df)\n"
      ],
      "metadata": {
        "id": "o7SDIVm9meFo"
      },
      "execution_count": null,
      "outputs": []
    },
    {
      "cell_type": "code",
      "source": [
        "X = df[['Diet Type', 'Transport Mode', 'Weekly km', 'Electricity kWh']]\n",
        "y = df['CO₂ kg/week']\n",
        "X = pd.get_dummies(X)"
      ],
      "metadata": {
        "id": "0mnVYngCm8v3"
      },
      "execution_count": 4,
      "outputs": []
    },
    {
      "cell_type": "code",
      "source": [
        "X_train, X_test, y_train, y_test = train_test_split(X, y, test_size=0.3, random_state=42)\n"
      ],
      "metadata": {
        "id": "ADdWZFE4nXzY"
      },
      "execution_count": 5,
      "outputs": []
    },
    {
      "cell_type": "code",
      "source": [
        "lr = LinearRegression()\n",
        "lr.fit(X_train, y_train)\n",
        "y_pred_lr = lr.predict(X_test)\n",
        "mse_lr = mean_squared_error(y_test, y_pred_lr)"
      ],
      "metadata": {
        "id": "76exdaghncBU"
      },
      "execution_count": 6,
      "outputs": []
    },
    {
      "cell_type": "code",
      "source": [
        "dt = DecisionTreeRegressor(max_depth=3, random_state=42)\n",
        "dt.fit(X_train, y_train)\n",
        "y_pred_dt = dt.predict(X_test)\n",
        "mse_dt = mean_squared_error(y_test, y_pred_dt)"
      ],
      "metadata": {
        "id": "IGJ0wiCbnhQN"
      },
      "execution_count": 7,
      "outputs": []
    },
    {
      "cell_type": "code",
      "source": [
        "print(\"🔍 Model Performance:\")\n",
        "print(f\"Linear Regression MSE: {mse_lr:.2f}\")\n",
        "print(f\"Decision Tree MSE: {mse_dt:.2f}\")\n"
      ],
      "metadata": {
        "id": "XtwtyWJcnkqb"
      },
      "execution_count": null,
      "outputs": []
    },
    {
      "cell_type": "code",
      "source": [
        "plt.figure(figsize=(8, 5))\n",
        "plt.plot(y_test.values, label='Actual CO₂', marker='o')\n",
        "plt.plot(y_pred_lr, label='Linear Prediction', marker='x')\n",
        "plt.plot(y_pred_dt, label='Tree Prediction', marker='s')\n",
        "plt.title(\"Actual vs Predicted CO₂ Emissions (kg/week)\")\n",
        "plt.xlabel(\"Sample\")\n",
        "plt.ylabel(\"CO₂ kg/week\")\n",
        "plt.legend()\n",
        "plt.grid(True)\n",
        "plt.tight_layout()\n",
        "plt.show()"
      ],
      "metadata": {
        "id": "f96Hluf9notR"
      },
      "execution_count": null,
      "outputs": []
    }
  ]
}